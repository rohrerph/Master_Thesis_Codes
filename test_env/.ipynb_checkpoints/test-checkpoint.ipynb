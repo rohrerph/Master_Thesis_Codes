{
 "cells": [
  {
   "cell_type": "markdown",
   "metadata": {},
   "source": [
    "![boeing](https://upload.wikimedia.org/wikipedia/commons/f/f2/Air-India_Boeing_707-400_Manteufel.jpg)\n",
    "A beautiful Boeing aircraft."
   ]
  },
  {
   "cell_type": "code",
   "execution_count": 1,
   "metadata": {},
   "outputs": [],
   "source": [
    "import pandas as pd \n",
    "import numpy as np\n",
    "import ipywidgets as widgets\n",
    "from IPython.display import display\n",
    "import matplotlib.pyplot as plt\n",
    "from scipy.interpolate import interp1d"
   ]
  },
  {
   "cell_type": "code",
   "execution_count": 2,
   "metadata": {},
   "outputs": [
    {
     "name": "stderr",
     "output_type": "stream",
     "text": [
      "C:\\Users\\PRohr\\AppData\\Local\\Temp\\ipykernel_20128\\1941025748.py:20: FutureWarning: The frame.append method is deprecated and will be removed from pandas in a future version. Use pandas.concat instead.\n",
      "  forecast = forecast.append(years, ignore_index=True)\n",
      "C:\\Users\\PRohr\\miniconda3_1\\lib\\site-packages\\pandas\\core\\reshape\\merge.py:1205: UserWarning: You are merging on int and float columns where the float values are not equal to their int representation.\n",
      "  warnings.warn(\n",
      "C:\\Users\\PRohr\\AppData\\Local\\Temp\\ipykernel_20128\\1941025748.py:20: FutureWarning: The frame.append method is deprecated and will be removed from pandas in a future version. Use pandas.concat instead.\n",
      "  forecast = forecast.append(years, ignore_index=True)\n",
      "C:\\Users\\PRohr\\miniconda3_1\\lib\\site-packages\\pandas\\core\\reshape\\merge.py:1205: UserWarning: You are merging on int and float columns where the float values are not equal to their int representation.\n",
      "  warnings.warn(\n",
      "C:\\Users\\PRohr\\AppData\\Local\\Temp\\ipykernel_20128\\1941025748.py:20: FutureWarning: The frame.append method is deprecated and will be removed from pandas in a future version. Use pandas.concat instead.\n",
      "  forecast = forecast.append(years, ignore_index=True)\n",
      "C:\\Users\\PRohr\\miniconda3_1\\lib\\site-packages\\pandas\\core\\reshape\\merge.py:1205: UserWarning: You are merging on int and float columns where the float values are not equal to their int representation.\n",
      "  warnings.warn(\n"
     ]
    }
   ],
   "source": [
    "forecast_high = pd.read_csv(r'C:\\Users\\PRohr\\Desktop\\Masterarbeit\\Python\\website_aviation_dashboard\\content\\highgrowth_forecast.csv', header=None)\n",
    "forecast_medium = pd.read_csv(r'C:\\Users\\PRohr\\Desktop\\Masterarbeit\\Python\\website_aviation_dashboard\\content\\mediumgrowth_forecast.csv', header=None)\n",
    "forecast_low = pd.read_csv(r'C:\\Users\\PRohr\\Desktop\\Masterarbeit\\Python\\website_aviation_dashboard\\content\\lowgrowth_forecast.csv', header=None)\n",
    "forecasts = [forecast_high, forecast_medium, forecast_low]\n",
    "index = ['Billion RPK High', 'Billion RPK Medium', 'Billion RPK Low']\n",
    "\n",
    "# Create an empty DataFrame to store the combined forecasts\n",
    "all_forecasts = pd.DataFrame()\n",
    "\n",
    "# Generate years DataFrame\n",
    "years = np.arange(1985, 2051)\n",
    "years = pd.DataFrame({'Year': years})\n",
    "\n",
    "# Process each forecast\n",
    "for i, forecast in enumerate(forecasts):\n",
    "    # Assign the unique index name to the 'Billion RPK' column\n",
    "    forecast.columns = ['Year', index[i]]\n",
    "    \n",
    "    # Append the current forecast to the combined forecast DataFrame\n",
    "    forecast = forecast.append(years, ignore_index=True)\n",
    "    forecast = forecast.sort_values('Year')\n",
    "    \n",
    "    forecast[index[i]] = forecast[index[i]].interpolate()\n",
    "    \n",
    "    forecast = forecast.merge(years, on='Year', how='right')\n",
    "    all_forecasts = pd.concat([all_forecasts, forecast[index[i]]], axis=1)\n",
    "\n",
    "# Concatenate years DataFrame with the combined forecasts DataFrame\n",
    "all_forecasts = pd.concat([years, all_forecasts], axis=1)\n",
    "all_forecasts = all_forecasts.dropna()\n",
    "\n",
    "\n",
    "\n",
    "    "
   ]
  },
  {
   "cell_type": "code",
   "execution_count": null,
   "metadata": {},
   "outputs": [],
   "source": [
    "\n",
    "\n"
   ]
  },
  {
   "cell_type": "code",
   "execution_count": null,
   "metadata": {},
   "outputs": [],
   "source": [
    "\n"
   ]
  },
  {
   "cell_type": "code",
   "execution_count": null,
   "metadata": {},
   "outputs": [],
   "source": []
  },
  {
   "cell_type": "code",
   "execution_count": 3,
   "metadata": {},
   "outputs": [],
   "source": [
    "slider = widgets.FloatSlider(value=0.5, min=0, max=1, step=0.1, description='Slider:')\n",
    "dropdown = widgets.Dropdown(options=['Option 1', 'Option 2', 'Option 3'], description='Dropdown:')\n",
    "button = widgets.Button(description='ICAO')"
   ]
  },
  {
   "cell_type": "code",
   "execution_count": 4,
   "metadata": {},
   "outputs": [],
   "source": [
    "def slider_callback(change):\n",
    "    # Perform actions based on slider value change\n",
    "    pass\n",
    "\n",
    "def dropdown_callback(change):\n",
    "    # Perform actions based on dropdown value change\n",
    "    pass\n",
    "\n",
    "def button_callback(button):\n",
    "    # Perform actions when button is clicked\n",
    "    pass\n",
    "def update_plot(x_min, x_max):\n",
    "    plt.xlim(x_min, x_max)\n",
    "    plt.show()"
   ]
  },
  {
   "cell_type": "code",
   "execution_count": 5,
   "metadata": {},
   "outputs": [
    {
     "data": {
      "application/vnd.jupyter.widget-view+json": {
       "model_id": "55aaeca30da447539f2b3c673d38b649",
       "version_major": 2,
       "version_minor": 0
      },
      "text/plain": [
       "interactive(children=(FloatSlider(value=1959.0, description='x min', max=2050.0, min=1959.0), FloatSlider(valu…"
      ]
     },
     "metadata": {},
     "output_type": "display_data"
    },
    {
     "data": {
      "text/plain": [
       "<function __main__.update_plot(x_min, x_max)>"
      ]
     },
     "execution_count": 5,
     "metadata": {},
     "output_type": "execute_result"
    }
   ],
   "source": [
    "# Create slider widgets\n",
    "x_min_widget = widgets.FloatSlider(value=0, min=1959, max=2050, step=0.1, description=\"x min\")\n",
    "x_max_widget = widgets.FloatSlider(value=10, min=1960, max=2050, step=0.1, description=\"x max\")\n",
    "# Create interactive plot\n",
    "widgets.interact(update_plot, x_min=x_min_widget, x_max=x_max_widget)"
   ]
  },
  {
   "cell_type": "code",
   "execution_count": 6,
   "metadata": {},
   "outputs": [],
   "source": [
    "dashboard = widgets.VBox([slider, dropdown, button])"
   ]
  },
  {
   "cell_type": "code",
   "execution_count": null,
   "metadata": {},
   "outputs": [],
   "source": []
  },
  {
   "cell_type": "code",
   "execution_count": null,
   "metadata": {},
   "outputs": [],
   "source": []
  },
  {
   "cell_type": "code",
   "execution_count": null,
   "metadata": {},
   "outputs": [],
   "source": [
    "\n"
   ]
  },
  {
   "cell_type": "code",
   "execution_count": null,
   "metadata": {},
   "outputs": [],
   "source": [
    "\n"
   ]
  },
  {
   "cell_type": "code",
   "execution_count": null,
   "metadata": {},
   "outputs": [],
   "source": [
    "\n"
   ]
  },
  {
   "cell_type": "code",
   "execution_count": null,
   "metadata": {},
   "outputs": [],
   "source": []
  },
  {
   "cell_type": "code",
   "execution_count": 3,
   "metadata": {},
   "outputs": [
    {
     "data": {
      "application/vnd.jupyter.widget-view+json": {
       "model_id": "afb05f81f3444d26896df2b02dcbfd2f",
       "version_major": 2,
       "version_minor": 0
      },
      "text/plain": [
       "VBox(children=(HBox(children=(Checkbox(value=False, description='ICAO'), Checkbox(value=False, description='AT…"
      ]
     },
     "metadata": {},
     "output_type": "display_data"
    },
    {
     "data": {
      "image/png": "[encoded data removed]",
      "text/plain": [
       "<Figure size 432x288 with 1 Axes>"
      ]
     },
     "metadata": {
      "needs_background": "light"
     },
     "output_type": "display_data"
    }
   ],
   "source": [
    "import pandas as pd\n",
    "import matplotlib.pyplot as plt\n",
    "import ipywidgets as widgets\n",
    "from IPython.display import display, clear_output\n",
    "\n",
    "plt.ion()  # Enable interactive mode\n",
    "\n",
    "# Load data\n",
    "data = pd.read_excel(r'C:\\Users\\PRohr\\Desktop\\Masterarbeit\\Python\\test_env\\database_creation\\annualdata.xlsx')\n",
    "\n",
    "# Create scatter plot\n",
    "fig, ax = plt.subplots()\n",
    "scatter_line, = ax.plot(data[\"Year\"], data[\"EI (MJ/RPK)\"], label='US Fleet')\n",
    "ax.set_xlabel(\"Year\")\n",
    "ax.set_ylabel(\"EI (MJ/RPK)\")\n",
    "ax.legend()\n",
    "\n",
    "# Define lines\n",
    "lines = {\n",
    "    \"ICAO\": {\"x\" : data['Year'], \"y\": data['ICAO Target']},\n",
    "    \"ATAG\": {\"x\": data['Year'], \"y\": data['ATAG Target']},\n",
    "}\n",
    "\n",
    "# Create checkboxes for line selection\n",
    "line_checkboxes = {}\n",
    "line_plots = {}\n",
    "for line_name in lines:\n",
    "    line_checkboxes[line_name] = widgets.Checkbox(value=False, description=line_name)\n",
    "    line_plots[line_name], = ax.plot([], [], label=line_name, color='red')\n",
    "\n",
    "# Create a slider widget for selecting the start and end year\n",
    "year_range_slider = widgets.IntRangeSlider(\n",
    "    value=[data[\"Year\"].min(), data[\"Year\"].max()],\n",
    "    min=data[\"Year\"].min(),\n",
    "    max=data[\"Year\"].max(),\n",
    "    step=1,\n",
    "    description=\"Year Range\",\n",
    "    continuous_update=False\n",
    ")\n",
    "\n",
    "# Create a vertical layout for checkboxes and the slider\n",
    "dashboard_layout = widgets.VBox([\n",
    "    widgets.HBox(list(line_checkboxes.values())),\n",
    "    year_range_slider\n",
    "])\n",
    "\n",
    "# Display the dashboard initially\n",
    "display(dashboard_layout)\n",
    "\n",
    "# Function to update plot\n",
    "def update_plot(*args):\n",
    "    scatter_line.set_data(data[\"Year\"], data[\"EI (MJ/RPK)\"])\n",
    "    \n",
    "    # Plot selected lines\n",
    "    for line_name, checkbox in line_checkboxes.items():\n",
    "        if checkbox.value:\n",
    "            line_data = lines[line_name]\n",
    "            line_plots[line_name].set_data(line_data[\"x\"], line_data[\"y\"])\n",
    "        else:\n",
    "            line_plots[line_name].set_data([], [])  # Hide the line if not selected\n",
    "    \n",
    "    # Set the x-axis limits based on the selected year range\n",
    "    start_year, end_year = year_range_slider.value\n",
    "    ax.set_xlim(start_year, end_year)\n",
    "    \n",
    "    # Calculate y-axis limits based on the visible data points\n",
    "    visible_data = data[(data[\"Year\"] >= start_year) & (data[\"Year\"] <= end_year)]\n",
    "    min_y = min(visible_data[\"EI (MJ/RPK)\"]*0.9)\n",
    "    min_y = max(min_y, 0) \n",
    "    max_y = max(visible_data[\"EI (MJ/RPK)\"]*1.1)\n",
    "    ax.set_ylim(min_y, max_y)\n",
    "    \n",
    "    clear_output(wait=True)  # Clear previous output\n",
    "    display(fig)  # Display the updated plot\n",
    "    display(dashboard_layout)  # Re-display the dashboard layout\n",
    "\n",
    "\n",
    "# Register update_plot() as the callback function for checkboxes and the slider\n",
    "for checkbox in line_checkboxes.values():\n",
    "    checkbox.observe(update_plot, 'value')\n",
    "\n",
    "year_range_slider.observe(update_plot, 'value')\n"
   ]
  },
  {
   "cell_type": "code",
   "execution_count": 4,
   "metadata": {},
   "outputs": [],
   "source": [
    "co2_equivalent = 0.09 #kg per MJ Jet fuel \n",
    "# Use different Forecast Scnearios\n",
    "\n",
    "data = pd.merge(data, all_forecasts, on='Year')\n",
    "data['CO2 high'] = co2_equivalent * data['EI (MJ/RPK)']* data['Billion RPK High']\n",
    "data['CO2 medium'] = co2_equivalent * data['EI (MJ/RPK)']* data['Billion RPK Medium']\n",
    "data['CO2 low'] = co2_equivalent * data['EI (MJ/RPK)']* data['Billion RPK Low']\n"
   ]
  },
  {
   "cell_type": "code",
   "execution_count": 15,
   "metadata": {},
   "outputs": [
    {
     "data": {
      "application/vnd.jupyter.widget-view+json": {
       "model_id": "986a3a5b0584401384a24fff0a3ddb7f",
       "version_major": 2,
       "version_minor": 0
      },
      "text/plain": [
       "interactive(children=(Checkbox(value=True, description='High'), Checkbox(value=False, description='Normal'), C…"
      ]
     },
     "metadata": {},
     "output_type": "display_data"
    },
    {
     "data": {
      "application/vnd.jupyter.widget-view+json": {
       "model_id": "4c63982003964bd892a33891fb3c3d23",
       "version_major": 2,
       "version_minor": 0
      },
      "text/plain": [
       "VBox(children=(Checkbox(value=True, description='High'), Checkbox(value=False, description='Normal'), Checkbox…"
      ]
     },
     "metadata": {},
     "output_type": "display_data"
    },
    {
     "data": {
      "image/png": "[encoded data removed]",
      "text/plain": [
       "<Figure size 576x360 with 1 Axes>"
      ]
     },
     "metadata": {
      "needs_background": "light"
     },
     "output_type": "display_data"
    }
   ],
   "source": [
    "import ipywidgets as widgets\n",
    "import matplotlib.pyplot as plt\n",
    "import numpy as np\n",
    "from IPython.display import display, clear_output\n",
    "\n",
    "\n",
    "# Create the data for the lines\n",
    "x = data['Year']\n",
    "y1 = data['CO2 high']\n",
    "y2 = data['CO2 medium']\n",
    "y3 = data['CO2 low']\n",
    "\n",
    "# Create the checkboxes\n",
    "checkbox1 = widgets.Checkbox(description='High', value=True)\n",
    "checkbox2 = widgets.Checkbox(description='Normal', value=False)\n",
    "checkbox3 = widgets.Checkbox(description='Low', value=False)\n",
    "\n",
    "# Create the update plot function\n",
    "def update_plot(checkbox1_value, checkbox2_value, checkbox3_value):\n",
    "    plt.figure(figsize=(8, 5))\n",
    "\n",
    "    if checkbox1_value:\n",
    "        plt.plot(x, y1, label='High Forecast')\n",
    "    if checkbox2_value:\n",
    "        plt.plot(x, y2, label='Central Forecast')\n",
    "    if checkbox3_value:\n",
    "        plt.plot(x, y3, label='Low Forecast')\n",
    "\n",
    "    plt.xlabel('X')\n",
    "    plt.ylabel('Y')\n",
    "    plt.title('Line Plots')\n",
    "    plt.legend()\n",
    "    plt.grid(True)\n",
    "\n",
    "# Assign the update plot function to the checkboxes' on_value_change event\n",
    "checkbox1.observe(lambda change: update_plot(checkbox1.value, checkbox2.value, checkbox3.value), 'value')\n",
    "checkbox2.observe(lambda change: update_plot(checkbox1.value, checkbox2.value, checkbox3.value), 'value')\n",
    "checkbox3.observe(lambda change: update_plot(checkbox1.value, checkbox2.value, checkbox3.value), 'value')\n",
    "\n",
    "# Display the checkboxes\n",
    "widgets.interact(update_plot, checkbox1_value=checkbox1, checkbox2_value=checkbox2, checkbox3_value=checkbox3)\n",
    "display(widgets.VBox([checkbox1, checkbox2, checkbox3]))"
   ]
  },
  {
   "cell_type": "code",
   "execution_count": null,
   "metadata": {},
   "outputs": [],
   "source": [
    "import ipywidgets as widgets\n",
    "import matplotlib.pyplot as plt\n",
    "import numpy as np\n",
    "from IPython.display import display\n",
    "\n",
    "# Create the data for the lines\n",
    "x = data['Year']\n",
    "y1 = data['CO2 high']\n",
    "y2 = data['CO2 medium']\n",
    "y3 = data['CO2 low']\n",
    "\n",
    "# Create the checkboxes\n",
    "checkbox1 = widgets.Checkbox(description='High', value=True)\n",
    "checkbox2 = widgets.Checkbox(description='Normal', value=False)\n",
    "checkbox3 = widgets.Checkbox(description='Low', value=False)\n",
    "\n",
    "# Create the update plot function\n",
    "def update_plot(checkbox1_value, checkbox2_value, checkbox3_value):\n",
    "    plt.figure(figsize=(8, 5))\n",
    "    \n",
    "    if checkbox1_value:\n",
    "        plt.plot(x, y1, label='High Forecast')\n",
    "    if checkbox2_value:\n",
    "        plt.plot(x, y2, label='Central Forecast')\n",
    "    if checkbox3_value:\n",
    "        plt.plot(x, y3, label='Low Forecast')\n",
    "    \n",
    "    plt.xlabel('X')\n",
    "    plt.ylabel('Y')\n",
    "    plt.title('Line Plots')\n",
    "    plt.legend()\n",
    "    plt.grid(True)\n",
    "    plt.show()\n",
    "\n",
    "# Use the interactive function to create the interactive plot\n",
    "interactive_plot = widgets.interactive(update_plot,\n",
    "                                       checkbox1_value=checkbox1,\n",
    "                                       checkbox2_value=checkbox2,\n",
    "                                       checkbox3_value=checkbox3)\n",
    "\n",
    "# Display the checkboxes and the initial plot\n",
    "display(widgets.VBox([checkbox1, checkbox2, checkbox3, interactive_plot]))"
   ]
  },
  {
   "cell_type": "code",
   "execution_count": null,
   "metadata": {},
   "outputs": [],
   "source": []
  }
 ],
 "metadata": {
  "kernelspec": {
   "display_name": "Python 3 (ipykernel)",
   "language": "python",
   "name": "python3"
  },
  "language_info": {
   "codemirror_mode": {
    "name": "ipython",
    "version": 3
   },
   "file_extension": ".py",
   "mimetype": "text/x-python",
   "name": "python",
   "nbconvert_exporter": "python",
   "pygments_lexer": "ipython3",
   "version": "3.9.7"
  }
 },
 "nbformat": 4,
 "nbformat_minor": 2
}
