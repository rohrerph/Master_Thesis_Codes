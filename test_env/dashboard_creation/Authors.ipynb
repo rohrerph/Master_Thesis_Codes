{
 "cells": [
  {
   "cell_type": "code",
   "execution_count": 4,
   "metadata": {},
   "outputs": [],
   "source": [
    "import panel as pn\n",
    "import pandas as pd\n",
    "import numpy as np\n",
    "from bokeh.io import show\n",
    "from bokeh.plotting import figure\n",
    "from bokeh.models import ColumnDataSource, RadioButtonGroup, CustomJS\n",
    "from bokeh.models import CheckboxGroup, Legend, Div, RadioGroup\n",
    "from bokeh.transform import dodge\n",
    "from bokeh.transform import cumsum\n",
    "from bokeh.models import FactorRange, Select, Slider\n",
    "from bokeh.palettes import Category10\n",
    "from bokeh.transform import factor_cmap\n",
    "from bokeh.palettes import Blues\n",
    "from bokeh.layouts import column\n",
    "from bokeh.layouts import row"
   ]
  },
  {
   "cell_type": "code",
   "execution_count": 6,
   "metadata": {},
   "outputs": [],
   "source": [
    "def about_authors(): \n",
    "    text = \"\"\"\n",
    "    Add Informations about the authors and the GitHub repository.\n",
    "    \"\"\"\n",
    "\n",
    "    dashboard = pn.Column('# Authors', pn.layout.Divider(), text, styles=dict(background='whitesmoke'), width=400,)\n",
    "    return dashboard\n",
    "    "
   ]
  },
  {
   "cell_type": "code",
   "execution_count": null,
   "metadata": {},
   "outputs": [],
   "source": []
  },
  {
   "cell_type": "code",
   "execution_count": null,
   "metadata": {},
   "outputs": [],
   "source": []
  }
 ],
 "metadata": {
  "kernelspec": {
   "display_name": "Python 3 (ipykernel)",
   "language": "python",
   "name": "python3"
  },
  "language_info": {
   "codemirror_mode": {
    "name": "ipython",
    "version": 3
   },
   "file_extension": ".py",
   "mimetype": "text/x-python",
   "name": "python",
   "nbconvert_exporter": "python",
   "pygments_lexer": "ipython3",
   "version": "3.11.2"
  }
 },
 "nbformat": 4,
 "nbformat_minor": 2
}
