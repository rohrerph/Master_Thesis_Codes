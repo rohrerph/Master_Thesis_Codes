{
 "cells": [
  {
   "cell_type": "code",
   "execution_count": 59,
   "id": "b438fa78",
   "metadata": {},
   "outputs": [
    {
     "name": "stderr",
     "output_type": "stream",
     "text": [
      "C:\\Users\\PRohr\\AppData\\Local\\Temp\\ipykernel_27928\\1256742466.py:30: UserWarning: You are merging on int and float columns where the float values are not equal to their int representation.\n",
      "  forecast = forecast.merge(years, on='Year', how='right')\n",
      "C:\\Users\\PRohr\\AppData\\Local\\Temp\\ipykernel_27928\\1256742466.py:30: UserWarning: You are merging on int and float columns where the float values are not equal to their int representation.\n",
      "  forecast = forecast.merge(years, on='Year', how='right')\n",
      "C:\\Users\\PRohr\\AppData\\Local\\Temp\\ipykernel_27928\\1256742466.py:30: UserWarning: You are merging on int and float columns where the float values are not equal to their int representation.\n",
      "  forecast = forecast.merge(years, on='Year', how='right')\n"
     ]
    }
   ],
   "source": [
    "import panel as pn\n",
    "import hvplot.pandas\n",
    "import pandas as pd\n",
    "import numpy as np\n",
    "\n",
    "forecast_high = pd.read_csv(r'C:\\Users\\PRohr\\Desktop\\Masterarbeit\\Python\\website_aviation_dashboard\\content\\highgrowth_forecast.csv', header=None)\n",
    "forecast_medium = pd.read_csv(r'C:\\Users\\PRohr\\Desktop\\Masterarbeit\\Python\\website_aviation_dashboard\\content\\mediumgrowth_forecast.csv', header=None)\n",
    "forecast_low = pd.read_csv(r'C:\\Users\\PRohr\\Desktop\\Masterarbeit\\Python\\website_aviation_dashboard\\content\\lowgrowth_forecast.csv', header=None)\n",
    "forecasts = [forecast_high, forecast_medium, forecast_low]\n",
    "index = ['Billion RPK High', 'Billion RPK Medium', 'Billion RPK Low']\n",
    "\n",
    "# Create an empty DataFrame to store the combined forecasts\n",
    "all_forecasts = pd.DataFrame()\n",
    "\n",
    "# Generate years DataFrame\n",
    "years = np.arange(1985, 2051)\n",
    "years = pd.DataFrame({'Year': years})\n",
    "\n",
    "# Process each forecast\n",
    "for i, forecast in enumerate(forecasts):\n",
    "    # Assign the unique index name to the 'Billion RPK' column\n",
    "    forecast.columns = ['Year', index[i]]\n",
    "    \n",
    "    # Append the current forecast to the combined forecast DataFrame\n",
    "    forecast = pd.concat([forecast, years], ignore_index=True)\n",
    "    forecast = forecast.sort_values('Year')\n",
    "    \n",
    "    forecast[index[i]] = forecast[index[i]].interpolate()\n",
    "    \n",
    "    forecast = forecast.merge(years, on='Year', how='right')\n",
    "    all_forecasts = pd.concat([all_forecasts, forecast[index[i]]], axis=1)\n",
    "\n",
    "# Concatenate years DataFrame with the combined forecasts DataFrame\n",
    "all_forecasts = pd.concat([years, all_forecasts], axis=1)\n",
    "all_forecasts = all_forecasts.dropna()\n",
    "\n",
    "end_year = 2019\n",
    "all_forecasts.loc[all_forecasts['Year'] <= end_year, ['Billion RPK High', 'Billion RPK Medium', 'Billion RPK Low']] = all_forecasts.loc[all_forecasts['Year'] <= end_year, ['Billion RPK High', 'Billion RPK Medium', 'Billion RPK Low']].mean().mean()\n",
    "\n",
    "data = all_forecasts"
   ]
  },
  {
   "cell_type": "code",
   "execution_count": 60,
   "id": "4b27c886",
   "metadata": {},
   "outputs": [
    {
     "data": {
      "text/html": [
       "<div>\n",
       "<style scoped>\n",
       "    .dataframe tbody tr th:only-of-type {\n",
       "        vertical-align: middle;\n",
       "    }\n",
       "\n",
       "    .dataframe tbody tr th {\n",
       "        vertical-align: top;\n",
       "    }\n",
       "\n",
       "    .dataframe thead th {\n",
       "        text-align: right;\n",
       "    }\n",
       "</style>\n",
       "<table border=\"1\" class=\"dataframe\">\n",
       "  <thead>\n",
       "    <tr style=\"text-align: right;\">\n",
       "      <th></th>\n",
       "      <th>Year</th>\n",
       "      <th>Billion RPK High</th>\n",
       "      <th>Billion RPK Medium</th>\n",
       "      <th>Billion RPK Low</th>\n",
       "    </tr>\n",
       "  </thead>\n",
       "  <tbody>\n",
       "    <tr>\n",
       "      <th>1</th>\n",
       "      <td>1986</td>\n",
       "      <td>3812.206141</td>\n",
       "      <td>3812.206141</td>\n",
       "      <td>3812.206141</td>\n",
       "    </tr>\n",
       "    <tr>\n",
       "      <th>2</th>\n",
       "      <td>1987</td>\n",
       "      <td>3812.206141</td>\n",
       "      <td>3812.206141</td>\n",
       "      <td>3812.206141</td>\n",
       "    </tr>\n",
       "    <tr>\n",
       "      <th>3</th>\n",
       "      <td>1988</td>\n",
       "      <td>3812.206141</td>\n",
       "      <td>3812.206141</td>\n",
       "      <td>3812.206141</td>\n",
       "    </tr>\n",
       "    <tr>\n",
       "      <th>4</th>\n",
       "      <td>1989</td>\n",
       "      <td>3812.206141</td>\n",
       "      <td>3812.206141</td>\n",
       "      <td>3812.206141</td>\n",
       "    </tr>\n",
       "    <tr>\n",
       "      <th>5</th>\n",
       "      <td>1990</td>\n",
       "      <td>3812.206141</td>\n",
       "      <td>3812.206141</td>\n",
       "      <td>3812.206141</td>\n",
       "    </tr>\n",
       "    <tr>\n",
       "      <th>...</th>\n",
       "      <td>...</td>\n",
       "      <td>...</td>\n",
       "      <td>...</td>\n",
       "      <td>...</td>\n",
       "    </tr>\n",
       "    <tr>\n",
       "      <th>61</th>\n",
       "      <td>2046</td>\n",
       "      <td>23130.939147</td>\n",
       "      <td>18750.044824</td>\n",
       "      <td>16168.151827</td>\n",
       "    </tr>\n",
       "    <tr>\n",
       "      <th>62</th>\n",
       "      <td>2047</td>\n",
       "      <td>24131.494962</td>\n",
       "      <td>19205.543802</td>\n",
       "      <td>16396.349554</td>\n",
       "    </tr>\n",
       "    <tr>\n",
       "      <th>63</th>\n",
       "      <td>2048</td>\n",
       "      <td>24616.487969</td>\n",
       "      <td>20055.850396</td>\n",
       "      <td>16624.547280</td>\n",
       "    </tr>\n",
       "    <tr>\n",
       "      <th>64</th>\n",
       "      <td>2049</td>\n",
       "      <td>25465.539499</td>\n",
       "      <td>20450.658013</td>\n",
       "      <td>17308.602575</td>\n",
       "    </tr>\n",
       "    <tr>\n",
       "      <th>65</th>\n",
       "      <td>2050</td>\n",
       "      <td>25829.598021</td>\n",
       "      <td>20845.465629</td>\n",
       "      <td>17764.460143</td>\n",
       "    </tr>\n",
       "  </tbody>\n",
       "</table>\n",
       "<p>65 rows × 4 columns</p>\n",
       "</div>"
      ],
      "text/plain": [
       "    Year  Billion RPK High  Billion RPK Medium  Billion RPK Low\n",
       "1   1986       3812.206141         3812.206141      3812.206141\n",
       "2   1987       3812.206141         3812.206141      3812.206141\n",
       "3   1988       3812.206141         3812.206141      3812.206141\n",
       "4   1989       3812.206141         3812.206141      3812.206141\n",
       "5   1990       3812.206141         3812.206141      3812.206141\n",
       "..   ...               ...                 ...              ...\n",
       "61  2046      23130.939147        18750.044824     16168.151827\n",
       "62  2047      24131.494962        19205.543802     16396.349554\n",
       "63  2048      24616.487969        20055.850396     16624.547280\n",
       "64  2049      25465.539499        20450.658013     17308.602575\n",
       "65  2050      25829.598021        20845.465629     17764.460143\n",
       "\n",
       "[65 rows x 4 columns]"
      ]
     },
     "execution_count": 60,
     "metadata": {},
     "output_type": "execute_result"
    }
   ],
   "source": [
    "data\n"
   ]
  },
  {
   "cell_type": "code",
   "execution_count": null,
   "id": "8ff986b5",
   "metadata": {},
   "outputs": [],
   "source": []
  },
  {
   "cell_type": "code",
   "execution_count": null,
   "id": "9d3f1dd4",
   "metadata": {},
   "outputs": [],
   "source": []
  },
  {
   "cell_type": "code",
   "execution_count": 63,
   "id": "def20b48",
   "metadata": {},
   "outputs": [
    {
     "name": "stdout",
     "output_type": "stream",
     "text": [
      "Launching server at http://localhost:63912\n"
     ]
    },
    {
     "data": {
      "text/plain": [
       "<panel.io.server.Server at 0x189b86d9510>"
      ]
     },
     "execution_count": 63,
     "metadata": {},
     "output_type": "execute_result"
    }
   ],
   "source": [
    "import pandas as pd\n",
    "import panel as pn\n",
    "import hvplot.pandas\n",
    "\n",
    "# Create the data for the lines\n",
    "x = data['Year']\n",
    "y1 = data['Billion RPK High']\n",
    "y2 = data['Billion RPK Medium']\n",
    "y3 = data['Billion RPK Low']\n",
    "\n",
    "# Create the line plot function\n",
    "def line_plot():\n",
    "    plot_data = pd.DataFrame({'x': x, 'High': y1, 'Medium': y2, 'Low': y3})\n",
    "    plot = plot_data.hvplot.line(x='x', y=['High', 'Medium', 'Low'], , ylabel='CO2', width=500)\n",
    "    return plot\n",
    "\n",
    "# Create the panel\n",
    "panel = pn.Column(line_plot())\n",
    "\n",
    "# Display the panel\n",
    "panel.show()\n"
   ]
  },
  {
   "cell_type": "code",
   "execution_count": null,
   "id": "0d1f2562",
   "metadata": {},
   "outputs": [],
   "source": []
  },
  {
   "cell_type": "code",
   "execution_count": null,
   "id": "4eb84ecc",
   "metadata": {},
   "outputs": [],
   "source": []
  },
  {
   "cell_type": "code",
   "execution_count": null,
   "id": "790d77c6",
   "metadata": {},
   "outputs": [],
   "source": [
    "\n"
   ]
  },
  {
   "cell_type": "code",
   "execution_count": null,
   "id": "72d27ac3",
   "metadata": {},
   "outputs": [],
   "source": []
  }
 ],
 "metadata": {
  "kernelspec": {
   "display_name": "Python 3 (ipykernel)",
   "language": "python",
   "name": "python3"
  },
  "language_info": {
   "codemirror_mode": {
    "name": "ipython",
    "version": 3
   },
   "file_extension": ".py",
   "mimetype": "text/x-python",
   "name": "python",
   "nbconvert_exporter": "python",
   "pygments_lexer": "ipython3",
   "version": "3.11.2"
  }
 },
 "nbformat": 4,
 "nbformat_minor": 5
}
