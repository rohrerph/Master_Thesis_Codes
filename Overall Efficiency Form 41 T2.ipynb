{
 "cells": [
  {
   "cell_type": "code",
   "execution_count": 1,
   "id": "2b3dfbeb",
   "metadata": {},
   "outputs": [],
   "source": [
    "import pandas as pd \n",
    "import numpy as np "
   ]
  },
  {
   "cell_type": "code",
   "execution_count": 3,
   "id": "e8109f3d",
   "metadata": {},
   "outputs": [],
   "source": [
    "fuel_data = pd.read_csv(r'C:\\Users\\PRohr\\Downloads\\T_SCHEDULE_T2.csv')"
   ]
  },
  {
   "cell_type": "code",
   "execution_count": 5,
   "id": "1b806fe9",
   "metadata": {},
   "outputs": [],
   "source": [
    "fuel_data = fuel_data.dropna(subset = ['AIRCRAFT_FUELS_921'])"
   ]
  },
  {
   "cell_type": "code",
   "execution_count": 20,
   "id": "0bd70e0b",
   "metadata": {},
   "outputs": [],
   "source": [
    "fuel_data = fuel_data[['YEAR', 'QUARTER','CARRIER_NAME', 'AIRCRAFT_TYPE', \n",
    "       'AVL_SEAT_MILES_320', 'REV_PAX_MILES_140', 'HOURS_AIRBORNE_650','ACRFT_HRS_RAMPTORAMP_630',\n",
    "       'AIRCRAFT_FUELS_921',]]"
   ]
  },
  {
   "cell_type": "code",
   "execution_count": 21,
   "id": "83eed99c",
   "metadata": {},
   "outputs": [
    {
     "data": {
      "text/plain": [
       "Index(['YEAR', 'QUARTER', 'CARRIER_NAME', 'AIRCRAFT_TYPE',\n",
       "       'AVL_SEAT_MILES_320', 'REV_PAX_MILES_140', 'HOURS_AIRBORNE_650',\n",
       "       'ACRFT_HRS_RAMPTORAMP_630', 'AIRCRAFT_FUELS_921'],\n",
       "      dtype='object')"
      ]
     },
     "execution_count": 21,
     "metadata": {},
     "output_type": "execute_result"
    }
   ],
   "source": [
    "fuel_data.columns"
   ]
  },
  {
   "cell_type": "code",
   "execution_count": 25,
   "id": "1a500aa3",
   "metadata": {},
   "outputs": [],
   "source": [
    "fuel_data = fuel_data[fuel_data.AIRCRAFT_FUELS_921 != 0]\n",
    "fuel_data = fuel_data[fuel_data.HOURS_AIRBORNE_650 != 0]\n",
    "fuel_data['ASK'] = fuel_data['AVL_SEAT_MILES_320']/1.60934\n",
    "fuel_data['Fuel MJ'] = fuel_data['AIRCRAFT_FUELS_921']*3.78541*35"
   ]
  },
  {
   "cell_type": "code",
   "execution_count": 27,
   "id": "73d824b9",
   "metadata": {},
   "outputs": [],
   "source": [
    "fuel_data['MJ/ASK)']= fuel_data['Fuel MJ']/fuel_data['ASK']"
   ]
  },
  {
   "cell_type": "code",
   "execution_count": 30,
   "id": "5e14b827",
   "metadata": {},
   "outputs": [],
   "source": [
    "#Groupby AC type \n",
    "\n",
    "fuel_ac = fuel_data[['AIRCRAFT_TYPE', 'MJ/ASK)']]\n"
   ]
  },
  {
   "cell_type": "code",
   "execution_count": 38,
   "id": "24e23df6",
   "metadata": {},
   "outputs": [
    {
     "data": {
      "text/html": [
       "<div>\n",
       "<style scoped>\n",
       "    .dataframe tbody tr th:only-of-type {\n",
       "        vertical-align: middle;\n",
       "    }\n",
       "\n",
       "    .dataframe tbody tr th {\n",
       "        vertical-align: top;\n",
       "    }\n",
       "\n",
       "    .dataframe thead th {\n",
       "        text-align: right;\n",
       "    }\n",
       "</style>\n",
       "<table border=\"1\" class=\"dataframe\">\n",
       "  <thead>\n",
       "    <tr style=\"text-align: right;\">\n",
       "      <th></th>\n",
       "      <th>AIRCRAFT_TYPE</th>\n",
       "      <th>MJ/ASK)</th>\n",
       "    </tr>\n",
       "  </thead>\n",
       "  <tbody>\n",
       "    <tr>\n",
       "      <th>0</th>\n",
       "      <td>150</td>\n",
       "      <td>NaN</td>\n",
       "    </tr>\n",
       "    <tr>\n",
       "      <th>1</th>\n",
       "      <td>218</td>\n",
       "      <td>NaN</td>\n",
       "    </tr>\n",
       "    <tr>\n",
       "      <th>2</th>\n",
       "      <td>339</td>\n",
       "      <td>2.849716</td>\n",
       "    </tr>\n",
       "    <tr>\n",
       "      <th>3</th>\n",
       "      <td>359</td>\n",
       "      <td>2.820910</td>\n",
       "    </tr>\n",
       "    <tr>\n",
       "      <th>4</th>\n",
       "      <td>390</td>\n",
       "      <td>41.695179</td>\n",
       "    </tr>\n",
       "    <tr>\n",
       "      <th>...</th>\n",
       "      <td>...</td>\n",
       "      <td>...</td>\n",
       "    </tr>\n",
       "    <tr>\n",
       "      <th>79</th>\n",
       "      <td>838</td>\n",
       "      <td>3.036594</td>\n",
       "    </tr>\n",
       "    <tr>\n",
       "      <th>80</th>\n",
       "      <td>839</td>\n",
       "      <td>2.107914</td>\n",
       "    </tr>\n",
       "    <tr>\n",
       "      <th>81</th>\n",
       "      <td>887</td>\n",
       "      <td>2.984774</td>\n",
       "    </tr>\n",
       "    <tr>\n",
       "      <th>82</th>\n",
       "      <td>888</td>\n",
       "      <td>2.536598</td>\n",
       "    </tr>\n",
       "    <tr>\n",
       "      <th>83</th>\n",
       "      <td>889</td>\n",
       "      <td>2.882199</td>\n",
       "    </tr>\n",
       "  </tbody>\n",
       "</table>\n",
       "<p>84 rows × 2 columns</p>\n",
       "</div>"
      ],
      "text/plain": [
       "    AIRCRAFT_TYPE    MJ/ASK)\n",
       "0             150        NaN\n",
       "1             218        NaN\n",
       "2             339   2.849716\n",
       "3             359   2.820910\n",
       "4             390  41.695179\n",
       "..            ...        ...\n",
       "79            838   3.036594\n",
       "80            839   2.107914\n",
       "81            887   2.984774\n",
       "82            888   2.536598\n",
       "83            889   2.882199\n",
       "\n",
       "[84 rows x 2 columns]"
      ]
     },
     "execution_count": 38,
     "metadata": {},
     "output_type": "execute_result"
    }
   ],
   "source": [
    "fuel_ac = fuel_ac.groupby('AIRCRAFT_TYPE').mean()\n",
    "fuel_ac = fuel_ac.reset_index()\n",
    "fuel_ac"
   ]
  },
  {
   "cell_type": "code",
   "execution_count": 34,
   "id": "cf946a9b",
   "metadata": {},
   "outputs": [],
   "source": [
    "ac_data   = pd.read_csv(r\"C:\\Users\\PRohr\\Downloads\\L_AIRCRAFT_TYPE.csv\")"
   ]
  },
  {
   "cell_type": "code",
   "execution_count": 41,
   "id": "54ca2c39",
   "metadata": {},
   "outputs": [],
   "source": [
    "ac_fuel = pd.merge(fuel_ac, ac_data, left_on='AIRCRAFT_TYPE', right_on='Code')\n",
    "ac_fuel = ac_fuel.drop(['Code', 'AIRCRAFT_TYPE'], axis = 1)"
   ]
  },
  {
   "cell_type": "code",
   "execution_count": 44,
   "id": "cac01354",
   "metadata": {},
   "outputs": [
    {
     "data": {
      "text/html": [
       "<div>\n",
       "<style scoped>\n",
       "    .dataframe tbody tr th:only-of-type {\n",
       "        vertical-align: middle;\n",
       "    }\n",
       "\n",
       "    .dataframe tbody tr th {\n",
       "        vertical-align: top;\n",
       "    }\n",
       "\n",
       "    .dataframe thead th {\n",
       "        text-align: right;\n",
       "    }\n",
       "</style>\n",
       "<table border=\"1\" class=\"dataframe\">\n",
       "  <thead>\n",
       "    <tr style=\"text-align: right;\">\n",
       "      <th></th>\n",
       "      <th>MJ/ASK)</th>\n",
       "      <th>Description</th>\n",
       "    </tr>\n",
       "  </thead>\n",
       "  <tbody>\n",
       "    <tr>\n",
       "      <th>62</th>\n",
       "      <td>1.967654</td>\n",
       "      <td>Airbus Industrie A320-200n</td>\n",
       "    </tr>\n",
       "    <tr>\n",
       "      <th>61</th>\n",
       "      <td>2.084089</td>\n",
       "      <td>Airbus Industrie A321-200n</td>\n",
       "    </tr>\n",
       "    <tr>\n",
       "      <th>80</th>\n",
       "      <td>2.107914</td>\n",
       "      <td>Boeing B737 Max 900</td>\n",
       "    </tr>\n",
       "    <tr>\n",
       "      <th>59</th>\n",
       "      <td>2.383579</td>\n",
       "      <td>Airbus Industrie A321/Lr</td>\n",
       "    </tr>\n",
       "    <tr>\n",
       "      <th>64</th>\n",
       "      <td>2.417438</td>\n",
       "      <td>A220-300 BD-500-1A11</td>\n",
       "    </tr>\n",
       "    <tr>\n",
       "      <th>...</th>\n",
       "      <td>...</td>\n",
       "      <td>...</td>\n",
       "    </tr>\n",
       "    <tr>\n",
       "      <th>66</th>\n",
       "      <td>NaN</td>\n",
       "      <td>McDonnell Douglas MD-11</td>\n",
       "    </tr>\n",
       "    <tr>\n",
       "      <th>74</th>\n",
       "      <td>NaN</td>\n",
       "      <td>Boeing 747-400</td>\n",
       "    </tr>\n",
       "    <tr>\n",
       "      <th>75</th>\n",
       "      <td>NaN</td>\n",
       "      <td>Boeing 747-400F</td>\n",
       "    </tr>\n",
       "    <tr>\n",
       "      <th>76</th>\n",
       "      <td>NaN</td>\n",
       "      <td>Boeing B747-8</td>\n",
       "    </tr>\n",
       "    <tr>\n",
       "      <th>78</th>\n",
       "      <td>NaN</td>\n",
       "      <td>Boeing 787-10 Dreamliner</td>\n",
       "    </tr>\n",
       "  </tbody>\n",
       "</table>\n",
       "<p>84 rows × 2 columns</p>\n",
       "</div>"
      ],
      "text/plain": [
       "     MJ/ASK)                 Description\n",
       "62  1.967654  Airbus Industrie A320-200n\n",
       "61  2.084089  Airbus Industrie A321-200n\n",
       "80  2.107914         Boeing B737 Max 900\n",
       "59  2.383579    Airbus Industrie A321/Lr\n",
       "64  2.417438        A220-300 BD-500-1A11\n",
       "..       ...                         ...\n",
       "66       NaN     McDonnell Douglas MD-11\n",
       "74       NaN              Boeing 747-400\n",
       "75       NaN             Boeing 747-400F\n",
       "76       NaN               Boeing B747-8\n",
       "78       NaN    Boeing 787-10 Dreamliner\n",
       "\n",
       "[84 rows x 2 columns]"
      ]
     },
     "execution_count": 44,
     "metadata": {},
     "output_type": "execute_result"
    }
   ],
   "source": [
    "ac_fuel = ac_fuel.sort_values(by=['MJ/ASK)'])\n",
    "ac_fuel"
   ]
  },
  {
   "cell_type": "code",
   "execution_count": null,
   "id": "e0751c33",
   "metadata": {},
   "outputs": [],
   "source": []
  }
 ],
 "metadata": {
  "kernelspec": {
   "display_name": "Python 3 (ipykernel)",
   "language": "python",
   "name": "python3"
  },
  "language_info": {
   "codemirror_mode": {
    "name": "ipython",
    "version": 3
   },
   "file_extension": ".py",
   "mimetype": "text/x-python",
   "name": "python",
   "nbconvert_exporter": "python",
   "pygments_lexer": "ipython3",
   "version": "3.9.7"
  }
 },
 "nbformat": 4,
 "nbformat_minor": 5
}
